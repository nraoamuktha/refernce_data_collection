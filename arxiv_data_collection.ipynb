{
 "cells": [
  {
   "cell_type": "code",
   "execution_count": 1,
   "metadata": {},
   "outputs": [],
   "source": [
    "import arxiv\n",
    "import pandas as pd\n"
   ]
  },
  {
   "cell_type": "code",
   "execution_count": 2,
   "metadata": {},
   "outputs": [],
   "source": [
    "queries = [\n",
    "    \"energy consumption for blockchain mining\",\n",
    "    \"Energy Costs of Large Language Model\",\n",
    "    \"energy consumption of machine learning\",\n",
    "    \"energy consumption of deep learning\",\n",
    "    \"energy consumption of neural networks\",\n",
    "    \"energy consumption of AI\",\n",
    "    \"energy consumption of artificial intelligence\",\n",
    "    \"energy consumption of machine learning models\",\n",
    "    \"energy consumption of deep learning models\",\n",
    "    \"energy consumption of neural network models\",\n",
    "    \"energy consumption of AI models\",\n",
    "    \"energy consumption of artificial intelligence models\",\n",
    "    \"energy consumption of machine learning algorithms\",\n",
    "    \"energy consumption of deep learning algorithms\",\n",
    "    \"energy consumption of neural network algorithms\",\n",
    "    \"energy consumption of AI algorithms\",\n",
    "    \"energy consumption of artificial intelligence algorithms\",\n",
    "    \"energy consumption of machine learning applications\",\n",
    "    \"energy consumption of deep learning applications\",\n",
    "    \"energy consumption of neural network applications\",\n",
    "    \"energy consumption of AI applications\",\n",
    "    \"energy consumption of artificial intelligence applications\",\n",
    "    \"sustainability of machine learning\",\n",
    "    \"sustainability of deep learning\",\n",
    "    \"sustainability of neural networks\",\n",
    "    \"sustainability of AI\",\n",
    "    \"sustainability of artificial intelligence\",\n",
    "    \"sustainability of machine learning models\",\n",
    "]"
   ]
  },
  {
   "cell_type": "code",
   "execution_count": 3,
   "metadata": {},
   "outputs": [],
   "source": [
    "# Function to search arXiv for the given query and return a list of results\n",
    "def search_arxiv(query):\n",
    "    search = arxiv.Search(\n",
    "        query=query,\n",
    "        max_results=10,  # You can adjust the number of results as needed\n",
    "        sort_by=arxiv.SortCriterion.Relevance\n",
    "    )\n",
    "    return list(search.results())\n"
   ]
  },
  {
   "cell_type": "code",
   "execution_count": 4,
   "metadata": {},
   "outputs": [
    {
     "name": "stderr",
     "output_type": "stream",
     "text": [
      "/var/folders/hb/ffpl3c3n0_q8nyzkl_t2z0br0000gn/T/ipykernel_97334/1217510573.py:8: DeprecationWarning: The 'Search.results' method is deprecated, use 'Client.results' instead\n",
      "  return list(search.results())\n"
     ]
    }
   ],
   "source": [
    "# Gather results for all queries\n",
    "all_results = []\n",
    "for query in queries:\n",
    "    results = search_arxiv(query)\n",
    "    all_results.extend(results)\n",
    "\n",
    "# Create a list to store data for the dataframe\n",
    "data = []\n",
    "\n",
    "# Store data in the list\n",
    "for result in all_results:\n",
    "    data.append({\n",
    "        \"Title\": result.title,\n",
    "        \"Authors\": ', '.join(author.name for author in result.authors),\n",
    "        \"Published\": result.published,\n",
    "        \"Summary\": result.summary,\n",
    "        \"URL\": result.entry_id\n",
    "    })\n",
    "\n",
    "# Create a pandas dataframe from the list of dictionaries\n",
    "df = pd.DataFrame(data)\n",
    "\n",
    "# Print the dataframe\n",
    "df.to_csv('research_data.csv', index=False)\n"
   ]
  }
 ],
 "metadata": {
  "kernelspec": {
   "display_name": "refernce_data_collection",
   "language": "python",
   "name": "python3"
  },
  "language_info": {
   "codemirror_mode": {
    "name": "ipython",
    "version": 3
   },
   "file_extension": ".py",
   "mimetype": "text/x-python",
   "name": "python",
   "nbconvert_exporter": "python",
   "pygments_lexer": "ipython3",
   "version": "3.11.5"
  }
 },
 "nbformat": 4,
 "nbformat_minor": 2
}
